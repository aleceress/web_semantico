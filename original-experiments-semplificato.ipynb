{
 "cells": [
  {
   "cell_type": "code",
   "execution_count": 1,
   "metadata": {},
   "outputs": [],
   "source": [
    "from mulearn import FuzzyInductor\n",
    "from mulearn.kernel import PrecomputedKernel, GaussianKernel\n",
    "from mulearn.fuzzifier import *\n",
    "from mulearn.optimization import GurobiSolver\n",
    "import csv\n",
    "import numpy as np\n",
    "from sklearn.model_selection import KFold, RandomizedSearchCV, GridSearchCV\n",
    "import random\n",
    "from sklearn.metrics import mean_squared_error\n",
    "from sklearn.model_selection import train_test_split\n",
    "\n",
    "def get_kernel_and_solver(gram):\n",
    "    eigvals = np.linalg.eigvals(gram)\n",
    "    assert(sum([abs(e.imag) for e in eigvals]) < 1e-4)\n",
    "    abs_neg_eigvals = [-l.real for l in eigvals if l < 0]\n",
    "    adjustment = max(abs_neg_eigvals) if abs_neg_eigvals else 0\n",
    "\n",
    "    kernel = PrecomputedKernel(gram)\n",
    "    solver = GurobiSolver(adjustment=adjustment) if adjustment else GurobiSolver()\n",
    "    return kernel, solver\n",
    "\n",
    "def get_dataset(filename):\n",
    "    with open(filename) as data_file:\n",
    "        data = np.array(list(csv.reader(data_file)))\n",
    "\n",
    "    n = len(data) - 1\n",
    "\n",
    "    # ## Extract data names, membership values and Gram matrix\n",
    "\n",
    "    names = np.array(data[0])[1:n+1]\n",
    "    mu = np.array([float(row[0]) for row in data[1:n+1]])\n",
    "    gram = np.array([[float(k.replace('NA', '0')) for k in row[1:n+1]]\n",
    "                     for row in data[1:n+1]])\n",
    "\n",
    "    assert(len(names.shape) == 1)\n",
    "    assert(len(mu.shape) == 1)\n",
    "    assert(len(gram.shape) == 2)\n",
    "\n",
    "    assert(names.shape[0] == gram.shape[0] == gram.shape[1] == mu.shape[0])\n",
    "\n",
    "    X = np.arange(n)\n",
    "\n",
    "    return X, gram, mu\n",
    "\n",
    "data_file_name = 'data/data-tettamanzi-complete.csv'\n",
    "X, gram, mu = get_dataset(data_file_name)\n",
    "k,s = get_kernel_and_solver(gram)\n",
    "\n",
    "cs = [0.005, 0.007, 0.01, 0.03, 0.05, 0.07, 0.1, 0.3, 0.5,0.7, 1, 10, 100]\n",
    "\n",
    "fuzzifiers = [LinearFuzzifier(), ExponentialFuzzifier(), CrispFuzzifier(),\n",
    "              QuantileConstantPiecewiseFuzzifier(),\n",
    "              QuantileLinearPiecewiseFuzzifier()]\n",
    "mean_scores = []\n",
    "std_scores = []\n",
    "\n",
    "X = X.reshape(len(X), -1)"
   ]
  },
  {
   "cell_type": "code",
   "execution_count": 5,
   "metadata": {},
   "outputs": [
    {
     "name": "stdout",
     "output_type": "stream",
     "text": [
      "Profile fitting returned a negative parameter\n",
      "Profile fitting returned a negative parameter\n",
      "Profile fitting returned a negative parameter\n",
      "Profile fitting returned a negative parameter\n",
      "Profile fitting returned a negative parameter\n",
      "Profile fitting returned a negative parameter\n",
      "Profile fitting returned a negative parameter\n",
      "Profile fitting returned a negative parameter\n",
      "Profile fitting returned a negative parameter\n",
      "Profile fitting returned a negative parameter\n",
      "Profile fitting returned a negative parameter\n",
      "Profile fitting returned a negative parameter\n",
      "Profile fitting returned a negative parameter\n",
      "in experiment 0 best c is None\n"
     ]
    },
    {
     "ename": "TypeError",
     "evalue": "'<=' not supported between instances of 'NoneType' and 'int'",
     "output_type": "error",
     "traceback": [
      "\u001b[0;31m---------------------------------------------------------------------------\u001b[0m",
      "\u001b[0;31mTypeError\u001b[0m                                 Traceback (most recent call last)",
      "\u001b[0;32m<ipython-input-5-cb33713c592b>\u001b[0m in \u001b[0;36m<module>\u001b[0;34m\u001b[0m\n\u001b[1;32m     30\u001b[0m         \u001b[0mprint\u001b[0m\u001b[0;34m(\u001b[0m\u001b[0;34mf\"in experiment {i} best c is {best_param}\"\u001b[0m\u001b[0;34m)\u001b[0m\u001b[0;34m\u001b[0m\u001b[0;34m\u001b[0m\u001b[0m\n\u001b[1;32m     31\u001b[0m         \u001b[0mfi\u001b[0m \u001b[0;34m=\u001b[0m \u001b[0mFuzzyInductor\u001b[0m\u001b[0;34m(\u001b[0m\u001b[0mc\u001b[0m\u001b[0;34m=\u001b[0m\u001b[0mbest_param\u001b[0m\u001b[0;34m,\u001b[0m \u001b[0mfuzzifier\u001b[0m\u001b[0;34m=\u001b[0m\u001b[0mfuzzifier\u001b[0m\u001b[0;34m,\u001b[0m \u001b[0mk\u001b[0m\u001b[0;34m=\u001b[0m\u001b[0mk\u001b[0m\u001b[0;34m,\u001b[0m \u001b[0msolver\u001b[0m\u001b[0;34m=\u001b[0m\u001b[0ms\u001b[0m\u001b[0;34m)\u001b[0m\u001b[0;34m\u001b[0m\u001b[0;34m\u001b[0m\u001b[0m\n\u001b[0;32m---> 32\u001b[0;31m         \u001b[0mfi\u001b[0m\u001b[0;34m.\u001b[0m\u001b[0mfit\u001b[0m\u001b[0;34m(\u001b[0m\u001b[0mX_trainval\u001b[0m\u001b[0;34m,\u001b[0m \u001b[0mmu_trainval\u001b[0m\u001b[0;34m)\u001b[0m\u001b[0;34m\u001b[0m\u001b[0;34m\u001b[0m\u001b[0m\n\u001b[0m\u001b[1;32m     33\u001b[0m \u001b[0;34m\u001b[0m\u001b[0m\n\u001b[1;32m     34\u001b[0m         \u001b[0;32mtry\u001b[0m\u001b[0;34m:\u001b[0m\u001b[0;34m\u001b[0m\u001b[0;34m\u001b[0m\u001b[0m\n",
      "\u001b[0;32m~/repo/didattica/tesi/alessia.cecere/mulearn/__init__.py\u001b[0m in \u001b[0;36mfit\u001b[0;34m(self, X, y, warm_start)\u001b[0m\n\u001b[1;32m    129\u001b[0m             \u001b[0mself\u001b[0m\u001b[0;34m.\u001b[0m\u001b[0msolver\u001b[0m\u001b[0;34m.\u001b[0m\u001b[0minitial_values\u001b[0m \u001b[0;34m=\u001b[0m \u001b[0mself\u001b[0m\u001b[0;34m.\u001b[0m\u001b[0mchis_\u001b[0m\u001b[0;34m\u001b[0m\u001b[0;34m\u001b[0m\u001b[0m\n\u001b[1;32m    130\u001b[0m \u001b[0;34m\u001b[0m\u001b[0m\n\u001b[0;32m--> 131\u001b[0;31m         \u001b[0mself\u001b[0m\u001b[0;34m.\u001b[0m\u001b[0mchis_\u001b[0m \u001b[0;34m=\u001b[0m \u001b[0mself\u001b[0m\u001b[0;34m.\u001b[0m\u001b[0msolver\u001b[0m\u001b[0;34m.\u001b[0m\u001b[0msolve\u001b[0m\u001b[0;34m(\u001b[0m\u001b[0mX\u001b[0m\u001b[0;34m,\u001b[0m \u001b[0my\u001b[0m\u001b[0;34m,\u001b[0m \u001b[0mself\u001b[0m\u001b[0;34m.\u001b[0m\u001b[0mc\u001b[0m\u001b[0;34m,\u001b[0m \u001b[0mself\u001b[0m\u001b[0;34m.\u001b[0m\u001b[0mk\u001b[0m\u001b[0;34m)\u001b[0m\u001b[0;34m\u001b[0m\u001b[0;34m\u001b[0m\u001b[0m\n\u001b[0m\u001b[1;32m    132\u001b[0m \u001b[0;34m\u001b[0m\u001b[0m\n\u001b[1;32m    133\u001b[0m         \u001b[0;32mif\u001b[0m \u001b[0mtype\u001b[0m\u001b[0;34m(\u001b[0m\u001b[0mself\u001b[0m\u001b[0;34m.\u001b[0m\u001b[0mk\u001b[0m\u001b[0;34m)\u001b[0m \u001b[0;32mis\u001b[0m \u001b[0mkernel\u001b[0m\u001b[0;34m.\u001b[0m\u001b[0mPrecomputedKernel\u001b[0m\u001b[0;34m:\u001b[0m\u001b[0;34m\u001b[0m\u001b[0;34m\u001b[0m\u001b[0m\n",
      "\u001b[0;32m~/repo/didattica/tesi/alessia.cecere/mulearn/optimization.py\u001b[0m in \u001b[0;36msolve\u001b[0;34m(self, xs, mus, c, k)\u001b[0m\n\u001b[1;32m     87\u001b[0m         \u001b[0;34m:\u001b[0m\u001b[0mreturns\u001b[0m\u001b[0;34m:\u001b[0m\u001b[0;31m \u001b[0m\u001b[0;31m`\u001b[0m\u001b[0mlist\u001b[0m\u001b[0;31m`\u001b[0m \u001b[0;34m-\u001b[0m\u001b[0;34m-\u001b[0m \u001b[0moptimal\u001b[0m \u001b[0mvalues\u001b[0m \u001b[0;32mfor\u001b[0m \u001b[0mthe\u001b[0m \u001b[0mindependent\u001b[0m \u001b[0mvariables\u001b[0m\u001b[0;34m\u001b[0m\u001b[0;34m\u001b[0m\u001b[0m\n\u001b[1;32m     88\u001b[0m           of the problem.\"\"\"\n\u001b[0;32m---> 89\u001b[0;31m         \u001b[0;32mif\u001b[0m \u001b[0mc\u001b[0m \u001b[0;34m<=\u001b[0m \u001b[0;36m0\u001b[0m\u001b[0;34m:\u001b[0m\u001b[0;34m\u001b[0m\u001b[0;34m\u001b[0m\u001b[0m\n\u001b[0m\u001b[1;32m     90\u001b[0m             \u001b[0;32mraise\u001b[0m \u001b[0mValueError\u001b[0m\u001b[0;34m(\u001b[0m\u001b[0;34m'c should be positive'\u001b[0m\u001b[0;34m)\u001b[0m\u001b[0;34m\u001b[0m\u001b[0;34m\u001b[0m\u001b[0m\n\u001b[1;32m     91\u001b[0m \u001b[0;34m\u001b[0m\u001b[0m\n",
      "\u001b[0;31mTypeError\u001b[0m: '<=' not supported between instances of 'NoneType' and 'int'"
     ]
    }
   ],
   "source": [
    "for fuzzifier in fuzzifiers:\n",
    "    test_scores = []\n",
    "\n",
    "    for i in range(10):\n",
    "        X_trainval, X_test, mu_trainval, mu_test = \\\n",
    "                train_test_split(X, mu, test_size=0.1)\n",
    "\n",
    "        \n",
    "        X_train, X_validation, mu_train, mu_validation = \\\n",
    "                train_test_split(X_trainval, mu_trainval, train_size=8/9)\n",
    "            \n",
    "        rmse_min = np.inf\n",
    "        best_param = None\n",
    "        \n",
    "        for c in cs:\n",
    "            try:\n",
    "                fi = FuzzyInductor(c=c, fuzzifier=fuzzifier, k=k, solver=s)\n",
    "                fi.fit(X_train, mu_train)\n",
    "                predictions = fi.predict(X_validation)\n",
    "                rmse = mean_squared_error(predictions, mu_validation,\n",
    "                                          squared=False)\n",
    "                if  rmse < rmse_min:\n",
    "                    best_param = c\n",
    "                    rmse_min = rmse\n",
    "            except ValueError as e:\n",
    "                print(e)\n",
    "                continue\n",
    "                  \n",
    "        #print(\"in experiment \" + str(i) + \" best c is \" + str(best_param))\n",
    "        print(f\"in experiment {i} best c is {best_param}\")\n",
    "        fi = FuzzyInductor(c=best_param, fuzzifier=fuzzifier, k=k, solver=s)\n",
    "        fi.fit(X_trainval, mu_trainval)\n",
    "        \n",
    "        try:\n",
    "            predictions = fi.predict(X_test)\n",
    "            rmse = mean_squared_error(predictions, mu_test, squared=False)\n",
    "            print(f\"in experiment {i} test rmse is {rmse}\")\n",
    "            test_scores.append(rmse)\n",
    "        except ValueError:\n",
    "            test_scores.append(np.nan)\n",
    "\n",
    "    mean_scores.append(np.nanmean(test_scores))\n",
    "    std_scores.append(np.nanstd(test_scores))"
   ]
  },
  {
   "cell_type": "code",
   "execution_count": 22,
   "metadata": {},
   "outputs": [
    {
     "data": {
      "text/html": [
       "<div>\n",
       "<style scoped>\n",
       "    .dataframe tbody tr th:only-of-type {\n",
       "        vertical-align: middle;\n",
       "    }\n",
       "\n",
       "    .dataframe tbody tr th {\n",
       "        vertical-align: top;\n",
       "    }\n",
       "\n",
       "    .dataframe thead th {\n",
       "        text-align: right;\n",
       "    }\n",
       "</style>\n",
       "<table border=\"1\" class=\"dataframe\">\n",
       "  <thead>\n",
       "    <tr style=\"text-align: right;\">\n",
       "      <th></th>\n",
       "      <th>RMSE</th>\n",
       "    </tr>\n",
       "  </thead>\n",
       "  <tbody>\n",
       "    <tr>\n",
       "      <th>LinearFuzzifier</th>\n",
       "      <td>nan +/- nan</td>\n",
       "    </tr>\n",
       "    <tr>\n",
       "      <th>ExponentialFuzzifier</th>\n",
       "      <td>0.38033 +/- 0.026</td>\n",
       "    </tr>\n",
       "    <tr>\n",
       "      <th>CrispFuzzifier</th>\n",
       "      <td>0.45697 +/- 0.09</td>\n",
       "    </tr>\n",
       "    <tr>\n",
       "      <th>QuantileConstantPiecewiseFuzzifier</th>\n",
       "      <td>0.33197 +/- 0.028</td>\n",
       "    </tr>\n",
       "    <tr>\n",
       "      <th>QuantileLinearPiecewiseFuzzifier</th>\n",
       "      <td>0.29839 +/- 0.034</td>\n",
       "    </tr>\n",
       "  </tbody>\n",
       "</table>\n",
       "</div>"
      ],
      "text/plain": [
       "                                                 RMSE\n",
       "LinearFuzzifier                           nan +/- nan\n",
       "ExponentialFuzzifier                0.38033 +/- 0.026\n",
       "CrispFuzzifier                       0.45697 +/- 0.09\n",
       "QuantileConstantPiecewiseFuzzifier  0.33197 +/- 0.028\n",
       "QuantileLinearPiecewiseFuzzifier    0.29839 +/- 0.034"
      ]
     },
     "execution_count": 22,
     "metadata": {},
     "output_type": "execute_result"
    }
   ],
   "source": [
    "import pandas as pd\n",
    "\n",
    "rmse_test = []\n",
    "for i in range(len(mean_scores)):\n",
    "    rmse_test.append(str(round(mean_scores[i],5)) + \" +/- \" + str(2*round(std_scores[i],3)))\n",
    "\n",
    "d = {'RMSE' : rmse_test}\n",
    "df = pd.DataFrame(d, index = ['LinearFuzzifier','ExponentialFuzzifier','CrispFuzzifier', 'QuantileConstantPiecewiseFuzzifier', 'QuantileLinearPiecewiseFuzzifier'])\n",
    "df.head()"
   ]
  },
  {
   "cell_type": "code",
   "execution_count": 23,
   "metadata": {},
   "outputs": [
    {
     "data": {
      "text/plain": [
       "array([1.        , 0.04920855, 1.        , ..., 0.02828723, 1.        ,\n",
       "       0.04334869])"
      ]
     },
     "execution_count": 23,
     "metadata": {},
     "output_type": "execute_result"
    }
   ],
   "source": [
    "mu"
   ]
  },
  {
   "cell_type": "code",
   "execution_count": null,
   "metadata": {},
   "outputs": [],
   "source": []
  }
 ],
 "metadata": {
  "kernelspec": {
   "display_name": "Python 3",
   "language": "python",
   "name": "python3"
  },
  "latex_envs": {
   "LaTeX_envs_menu_present": true,
   "autoclose": false,
   "autocomplete": true,
   "bibliofile": "biblio.bib",
   "cite_by": "apalike",
   "current_citInitial": 1,
   "eqLabelWithNumbers": true,
   "eqNumInitial": 1,
   "hotkeys": {
    "equation": "Ctrl-E",
    "itemize": "Ctrl-I"
   },
   "labels_anchors": false,
   "latex_user_defs": false,
   "report_style_numbering": false,
   "user_envs_cfg": false
  },
  "toc": {
   "base_numbering": 1,
   "nav_menu": {},
   "number_sections": true,
   "sideBar": true,
   "skip_h1_title": false,
   "title_cell": "Table of Contents",
   "title_sidebar": "Contents",
   "toc_cell": false,
   "toc_position": {},
   "toc_section_display": true,
   "toc_window_display": false
  }
 },
 "nbformat": 4,
 "nbformat_minor": 4
}
