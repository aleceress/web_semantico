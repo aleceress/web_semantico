{
 "cells": [
  {
   "cell_type": "code",
   "execution_count": 23,
   "metadata": {},
   "outputs": [],
   "source": [
    "import numpy as np\n",
    "import csv\n",
    "from mulearn.kernel import PrecomputedKernel\n",
    "from mulearn.optimization import GurobiSolver\n",
    "\n",
    "def get_kernel_and_solver(gram):\n",
    "    eigvals = np.linalg.eigvals(gram)\n",
    "    assert(sum([abs(e.imag) for e in eigvals]) < 1e-4)\n",
    "    abs_neg_eigvals = [-l.real for l in eigvals if l < 0]\n",
    "    adjustment = max(abs_neg_eigvals) if abs_neg_eigvals else 0\n",
    "\n",
    "    kernel = PrecomputedKernel(gram)\n",
    "    solver = GurobiSolver(adjustment=adjustment) if adjustment else GurobiSolver()\n",
    "\n",
    "    return kernel, solver, adjustment\n",
    "\n",
    "def get_dataset(filename):\n",
    "    with open(filename) as data_file:\n",
    "        data = np.array(list(csv.reader(data_file)))\n",
    "\n",
    "    n = len(data) - 1\n",
    "\n",
    "    # ## Extract data names, membership values and Gram matrix\n",
    "\n",
    "    names = np.array(data[0])[1:n+1]\n",
    "    mu = np.array([float(row[0]) for row in data[1:n+1]])\n",
    "    gram = np.array([[float(k.replace('NA', '0')) for k in row[1:n+1]]\n",
    "                     for row in data[1:n+1]])\n",
    "\n",
    "    gram = np.delete(gram,1, axis = 0)\n",
    "    gram = np.delete(gram,1, axis = 1)\n",
    "    mu = np.delete(mu,1)\n",
    "   \n",
    "\n",
    "    return X, gram, mu"
   ]
  },
  {
   "cell_type": "code",
   "execution_count": 28,
   "metadata": {},
   "outputs": [
    {
     "name": "stderr",
     "output_type": "stream",
     "text": [
      "D:\\anaconda\\lib\\site-packages\\ipykernel_launcher.py:20: DeprecationWarning: using a non-integer array as obj in delete will result in an error in the future\n",
      "D:\\anaconda\\lib\\site-packages\\ipykernel_launcher.py:21: DeprecationWarning: using a non-integer array as obj in delete will result in an error in the future\n",
      "D:\\anaconda\\lib\\site-packages\\ipykernel_launcher.py:22: DeprecationWarning: using a non-integer array as obj in delete will result in an error in the future\n",
      "D:\\anaconda\\lib\\site-packages\\ipykernel_launcher.py:23: DeprecationWarning: using a non-integer array as obj in delete will result in an error in the future\n"
     ]
    },
    {
     "name": "stdout",
     "output_type": "stream",
     "text": [
      "removing 0 formulas from gram matrix adjustment isn't necessary 0.0 % of times\n",
      "removing 1 formulas from gram matrix adjustment isn't necessary 0.0 % of times\n"
     ]
    }
   ],
   "source": [
    "from itertools import combinations\n",
    "import csv\n",
    "\n",
    "data_file_name = 'data/data-tettamanzi-complete.csv'\n",
    "\n",
    "with open(data_file_name) as data_file:\n",
    "    data = np.array(list(csv.reader(data_file)))\n",
    "    n = len(data) - 1\n",
    "    names = np.array(data[0])[1:n+1]\n",
    "    mu = np.array([float(row[0]) for row in data[1:n+1]])\n",
    "    gram = np.array([[float(k.replace('NA', '0')) for k in row[1:n+1]]\n",
    "                     for row in data[1:n+1]])\n",
    "    X = np.array([x for x in np.arange(n)])\n",
    "    \n",
    "for i in range(250):\n",
    "    comb = combinations(X, i)\n",
    "    not_adjusted = 0\n",
    "    adjusted = 0\n",
    "    for c in list(comb):\n",
    "        reducedGram0 = np.delete(gram, np.array(c), axis = 0)\n",
    "        reducedGram1 = np.delete(reducedGram0, np.array(c), axis = 1)\n",
    "        reducedMu = np.delete(mu,np.array(c))\n",
    "        reducedX = np.delete(X,np.array(c))\n",
    "        reducedX = np.array([x] for x in reducedX)\n",
    "        _,_,adjustment = get_kernel_and_solver(reducedGram1)\n",
    "        if adjustment:\n",
    "            adjusted+=1\n",
    "        else:\n",
    "            not_adjusted+=1\n",
    "    print(f\"removing {i} formulas from gram matrix adjustment isn't necessary {not_adjusted/(adjusted + not_adjusted)*100} % of times\")"
   ]
  }
 ],
 "metadata": {
  "kernelspec": {
   "display_name": "Python 3",
   "language": "python",
   "name": "python3"
  },
  "language_info": {
   "codemirror_mode": {
    "name": "ipython",
    "version": 3
   },
   "file_extension": ".py",
   "mimetype": "text/x-python",
   "name": "python",
   "nbconvert_exporter": "python",
   "pygments_lexer": "ipython3",
   "version": "3.7.9"
  }
 },
 "nbformat": 4,
 "nbformat_minor": 4
}
