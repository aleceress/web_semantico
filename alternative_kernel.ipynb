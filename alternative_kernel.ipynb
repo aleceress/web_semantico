{
 "cells": [
  {
   "cell_type": "code",
   "execution_count": null,
   "metadata": {},
   "outputs": [],
   "source": [
    "#!/usr/bin/env python3\n",
    "# -*- coding: utf-8 -*-\n",
    "\"\"\"\n",
    "Created on Thu Nov 26 12:06:53 2020.\n",
    "\n",
    "@author: malchiodi\n",
    "\"\"\"\n",
    "\n",
    "from mulearn import FuzzyInductor\n",
    "from mulearn.kernel import PrecomputedKernel\n",
    "from mulearn.fuzzifier import *\n",
    "from mulearn.optimization import GurobiSolver\n",
    "import csv\n",
    "import numpy as np\n",
    "from sklearn.model_selection import KFold, RandomizedSearchCV, GridSearchCV\n",
    "from alternative_kernel import LengthDistanceKernel\n",
    "\n",
    "import warnings\n",
    "warnings.filterwarnings('ignore')\n",
    "\n",
    "def get_dataset_axioms(filename):\n",
    "    with open(filename) as data_file:\n",
    "        data = np.array(list(csv.reader(data_file)))\n",
    "        \n",
    "    #n = len(data) - 1\n",
    "    n = 50\n",
    "    \n",
    "    names = np.array(data[0])[1:n+1]\n",
    "    \n",
    "    mu = np.array([float(row[0]) for row in data[1:n+1]])\n",
    "    X = np.array(names.reshape(-1,1))\n",
    "\n",
    "    return X, mu\n",
    "\n",
    "\n",
    "data_file_name = 'data/data-tettamanzi-complete.csv'\n",
    "X, mu = get_dataset_axioms(data_file_name)"
   ]
  },
  {
   "cell_type": "code",
   "execution_count": null,
   "metadata": {},
   "outputs": [],
   "source": [
    "out_cv = KFold()\n",
    "i = 1\n",
    "\n",
    "fi = FuzzyInductor(k= LengthDistanceKernel(), solver= GurobiSolver(), fuzzifier= QuantileConstantPiecewiseFuzzifier())\n",
    "\n",
    "inner_folds = 5\n",
    "gs = GridSearchCV(fi, {'c': np.logspace(-1, 1, 7)},\n",
    "                        verbose=0, cv=inner_folds,\n",
    "                        error_score=np.nan, n_jobs= 1,\n",
    "                        pre_dispatch=10)\n",
    "\n",
    "for train_idx, test_idx in out_cv.split(X):\n",
    "    X_train = X[train_idx]\n",
    "    X_test = X[test_idx]\n",
    "    mu_train = mu[train_idx]\n",
    "    mu_test = mu[test_idx]\n",
    "\n",
    "    gs.fit(X_train, mu_train)\n",
    "    print(f\"fold {i}: best parameters: {gs.best_params_['c']}\")\n",
    "    train_score = gs.score(X_train, mu_train)\n",
    "    test_score = gs.score(X_test, mu_test)\n",
    "    print(f'fold {i}: train score {train_score:.2f}, test score {test_score:.2f}')\n",
    "    i += 1"
   ]
  },
  {
   "cell_type": "code",
   "execution_count": null,
   "metadata": {
    "scrolled": true
   },
   "outputs": [],
   "source": [
    "from alternative_kernel import LevenshteinKernel\n",
    "\n",
    "out_cv = KFold()\n",
    "i = 1\n",
    "\n",
    "fi = FuzzyInductor(k= LevenshteinKernel(), solver= GurobiSolver(), fuzzifier= QuantileConstantPiecewiseFuzzifier())\n",
    " \n",
    "inner_folds = 5\n",
    "gs = GridSearchCV(fi, {'c': np.logspace(-1, 1, 7)},\n",
    "                        verbose=0, cv=inner_folds,\n",
    "                        error_score=np.nan, n_jobs= 1,\n",
    "                        pre_dispatch=10)\n",
    "\n",
    "for train_idx, test_idx in out_cv.split(X):\n",
    "    X_train = X[train_idx]\n",
    "    X_test = X[test_idx]\n",
    "    mu_train = mu[train_idx]\n",
    "    mu_test = mu[test_idx]\n",
    "\n",
    "    gs.fit(X_train, mu_train)\n",
    "    print(f\"fold {i}: best parameters: {gs.best_params_['c']}\")\n",
    "    train_score = gs.score(X_train, mu_train)\n",
    "    test_score = gs.score(X_test, mu_test)\n",
    "    print(f'fold {i}: train score {train_score:.2f}, test score {test_score:.2f}')\n",
    "    i += 1"
   ]
  },
  {
   "cell_type": "code",
   "execution_count": 3,
   "metadata": {},
   "outputs": [
    {
     "name": "stdout",
     "output_type": "stream",
     "text": [
      "fold 1: best parameters: 0.21544346900318834\n",
      "fold 1: train score -0.56, test score -0.66\n",
      "fold 2: best parameters: 0.1\n",
      "fold 2: train score -0.58, test score -0.54\n",
      "fold 3: best parameters: 2.1544346900318834\n",
      "fold 3: train score -0.55, test score -0.56\n",
      "fold 4: best parameters: 0.1\n",
      "fold 4: train score -0.56, test score -0.52\n",
      "fold 5: best parameters: 0.1\n",
      "fold 5: train score -0.56, test score -0.51\n"
     ]
    }
   ],
   "source": [
    "from alternative_kernel import HammingKernel\n",
    "\n",
    "out_cv = KFold()\n",
    "i = 1\n",
    "\n",
    "fi = FuzzyInductor(k= HammingKernel(), solver= GurobiSolver(), fuzzifier= QuantileConstantPiecewiseFuzzifier())\n",
    "\n",
    "inner_folds = 5\n",
    "gs = GridSearchCV(fi, {'c': np.logspace(-1, 1, 7)},\n",
    "                        verbose=0, cv=inner_folds,\n",
    "                        error_score=np.nan, n_jobs= 1,\n",
    "                        pre_dispatch=10)\n",
    "\n",
    "for train_idx, test_idx in out_cv.split(X):\n",
    "    X_train = X[train_idx]\n",
    "    X_test = X[test_idx]\n",
    "    mu_train = mu[train_idx]\n",
    "    mu_test = mu[test_idx]\n",
    "\n",
    "    gs.fit(X_train, mu_train)\n",
    "    print(f\"fold {i}: best parameters: {gs.best_params_['c']}\")\n",
    "    train_score = gs.score(X_train, mu_train)\n",
    "    test_score = gs.score(X_test, mu_test)\n",
    "    print(f'fold {i}: train score {train_score:.2f}, test score {test_score:.2f}')\n",
    "    i += 1"
   ]
  },
  {
   "cell_type": "code",
   "execution_count": null,
   "metadata": {},
   "outputs": [],
   "source": []
  }
 ],
 "metadata": {
  "kernelspec": {
   "display_name": "Python 3",
   "language": "python",
   "name": "python3"
  },
  "language_info": {
   "codemirror_mode": {
    "name": "ipython",
    "version": 3
   },
   "file_extension": ".py",
   "mimetype": "text/x-python",
   "name": "python",
   "nbconvert_exporter": "python",
   "pygments_lexer": "ipython3",
   "version": "3.7.9"
  }
 },
 "nbformat": 4,
 "nbformat_minor": 4
}
